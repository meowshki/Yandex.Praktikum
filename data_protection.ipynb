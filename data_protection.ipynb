{
 "cells": [
  {
   "cell_type": "markdown",
   "metadata": {},
   "source": [
    "Перед нами стоит задача защиты данных клиентов страховой компании «Хоть потоп». \n",
    "\n",
    "Важно, чтобы при защите персональных данных качество моделей машинного обучения не ухудшилось. "
   ]
  },
  {
   "cell_type": "markdown",
   "metadata": {},
   "source": [
    "## Загрузка данных"
   ]
  },
  {
   "cell_type": "code",
   "execution_count": 1,
   "metadata": {},
   "outputs": [],
   "source": [
    "import pandas as pd\n",
    "import numpy as np\n",
    "\n",
    "from sklearn.linear_model import LinearRegression\n",
    "from sklearn.metrics import r2_score\n",
    "from sklearn.metrics import mean_squared_error\n",
    "from sklearn.model_selection import train_test_split"
   ]
  },
  {
   "cell_type": "code",
   "execution_count": 2,
   "metadata": {},
   "outputs": [],
   "source": [
    "df = pd.read_csv('/datasets/insurance.csv')"
   ]
  },
  {
   "cell_type": "code",
   "execution_count": 3,
   "metadata": {},
   "outputs": [
    {
     "name": "stdout",
     "output_type": "stream",
     "text": [
      "<class 'pandas.core.frame.DataFrame'>\n",
      "RangeIndex: 5000 entries, 0 to 4999\n",
      "Data columns (total 5 columns):\n",
      "Пол                  5000 non-null int64\n",
      "Возраст              5000 non-null float64\n",
      "Зарплата             5000 non-null float64\n",
      "Члены семьи          5000 non-null int64\n",
      "Страховые выплаты    5000 non-null int64\n",
      "dtypes: float64(2), int64(3)\n",
      "memory usage: 195.4 KB\n"
     ]
    }
   ],
   "source": [
    "df.info()"
   ]
  },
  {
   "cell_type": "code",
   "execution_count": 4,
   "metadata": {},
   "outputs": [
    {
     "data": {
      "text/html": [
       "<div>\n",
       "<style scoped>\n",
       "    .dataframe tbody tr th:only-of-type {\n",
       "        vertical-align: middle;\n",
       "    }\n",
       "\n",
       "    .dataframe tbody tr th {\n",
       "        vertical-align: top;\n",
       "    }\n",
       "\n",
       "    .dataframe thead th {\n",
       "        text-align: right;\n",
       "    }\n",
       "</style>\n",
       "<table border=\"1\" class=\"dataframe\">\n",
       "  <thead>\n",
       "    <tr style=\"text-align: right;\">\n",
       "      <th></th>\n",
       "      <th>Пол</th>\n",
       "      <th>Возраст</th>\n",
       "      <th>Зарплата</th>\n",
       "      <th>Члены семьи</th>\n",
       "      <th>Страховые выплаты</th>\n",
       "    </tr>\n",
       "  </thead>\n",
       "  <tbody>\n",
       "    <tr>\n",
       "      <td>0</td>\n",
       "      <td>1</td>\n",
       "      <td>41.0</td>\n",
       "      <td>49600.0</td>\n",
       "      <td>1</td>\n",
       "      <td>0</td>\n",
       "    </tr>\n",
       "    <tr>\n",
       "      <td>1</td>\n",
       "      <td>0</td>\n",
       "      <td>46.0</td>\n",
       "      <td>38000.0</td>\n",
       "      <td>1</td>\n",
       "      <td>1</td>\n",
       "    </tr>\n",
       "    <tr>\n",
       "      <td>2</td>\n",
       "      <td>0</td>\n",
       "      <td>29.0</td>\n",
       "      <td>21000.0</td>\n",
       "      <td>0</td>\n",
       "      <td>0</td>\n",
       "    </tr>\n",
       "    <tr>\n",
       "      <td>3</td>\n",
       "      <td>0</td>\n",
       "      <td>21.0</td>\n",
       "      <td>41700.0</td>\n",
       "      <td>2</td>\n",
       "      <td>0</td>\n",
       "    </tr>\n",
       "    <tr>\n",
       "      <td>4</td>\n",
       "      <td>1</td>\n",
       "      <td>28.0</td>\n",
       "      <td>26100.0</td>\n",
       "      <td>0</td>\n",
       "      <td>0</td>\n",
       "    </tr>\n",
       "  </tbody>\n",
       "</table>\n",
       "</div>"
      ],
      "text/plain": [
       "   Пол  Возраст  Зарплата  Члены семьи  Страховые выплаты\n",
       "0    1     41.0   49600.0            1                  0\n",
       "1    0     46.0   38000.0            1                  1\n",
       "2    0     29.0   21000.0            0                  0\n",
       "3    0     21.0   41700.0            2                  0\n",
       "4    1     28.0   26100.0            0                  0"
      ]
     },
     "execution_count": 4,
     "metadata": {},
     "output_type": "execute_result"
    }
   ],
   "source": [
    "df.head()"
   ]
  },
  {
   "cell_type": "code",
   "execution_count": 5,
   "metadata": {},
   "outputs": [
    {
     "data": {
      "text/plain": [
       "153"
      ]
     },
     "execution_count": 5,
     "metadata": {},
     "output_type": "execute_result"
    }
   ],
   "source": [
    "df.duplicated().sum()"
   ]
  },
  {
   "cell_type": "code",
   "execution_count": 6,
   "metadata": {},
   "outputs": [],
   "source": [
    "df = df.drop_duplicates().reset_index(drop=True)"
   ]
  },
  {
   "cell_type": "code",
   "execution_count": 7,
   "metadata": {},
   "outputs": [
    {
     "data": {
      "text/plain": [
       "Пол                  0\n",
       "Возраст              0\n",
       "Зарплата             0\n",
       "Члены семьи          0\n",
       "Страховые выплаты    0\n",
       "dtype: int64"
      ]
     },
     "execution_count": 7,
     "metadata": {},
     "output_type": "execute_result"
    }
   ],
   "source": [
    "df.isna().sum()"
   ]
  },
  {
   "cell_type": "markdown",
   "metadata": {},
   "source": [
    "Данные загружены, изучены, с форматом ознакомилась <br>\n",
    "Найденные дубли были удалены, пропусков нет - данные чистые и готовы к преобразованию <br>"
   ]
  },
  {
   "cell_type": "markdown",
   "metadata": {},
   "source": [
    "## Алгоритм преобразования"
   ]
  },
  {
   "cell_type": "markdown",
   "metadata": {},
   "source": [
    "Обозначения:\n",
    "\n",
    "$X$ — матрица признаков (нулевой столбец состоит из единиц)\n",
    "\n",
    "$y$ — вектор целевого признака\n",
    "\n",
    "$P$ — матрица, на которую умножаются признаки\n",
    "\n",
    "$w$ — вектор весов линейной регрессии (нулевой элемент равен сдвигу)"
   ]
  },
  {
   "cell_type": "markdown",
   "metadata": {},
   "source": [
    "Предсказания:\n",
    "\n",
    "$$\n",
    "a = Xw\n",
    "$$\n",
    "Задача обучения:\n",
    "\n",
    "$$\n",
    "w = \\arg\\min_w MSE(Xw, y)\n",
    "$$\n",
    "Формула обучения:\n",
    "\n",
    "$$\n",
    "w = (X^T X)^{-1} X^T y\n",
    "$$\n",
    "Ответ: Не изменится\n",
    "\n",
    "Обоснование:\n",
    "\n",
    "$$\n",
    "w = (X^T X)^{-1} X^T y\n",
    "$$\n",
    "Преобразование матрицы Х$$\n",
    "w' = ((XP)^T (XP))^{-1} (XP)^T y =\n",
    "$$\n",
    "\n",
    "$$\n",
    "= (P^T X^T X P)^{-1}  (XP)^T y =\n",
    "$$$$\n",
    "= (P^T (X^TX) P)^{-1} (XP)^T y = \n",
    "$$$$\n",
    "= (P^T ((X^TX) P))^{-1} P^T X^T y =\n",
    "$$$$\n",
    "= ((X^TX)P)^{-1} (((P^T))^{-1}P^T) X^T y = ((X^TX)P)^{-1} E X^T y =\n",
    "$$$$\n",
    "= P^{-1}(X^TX)^{-1} X^Ty\n",
    "$$\n",
    "Предсказание$$\n",
    "a = Xw = \n",
    "$$$$\n",
    "= X (X^T X)^{-1} X^T y\n",
    "$$Предсказане на преобразованных данных$$\n",
    "a' = XP P^{-1}(X^TX)^{-1} X^Ty = XE(X^TX)^{-1} X^Ty\n",
    "$$$$\n",
    "= X (X^T X)^{-1} X^T y\n",
    "$$"
   ]
  },
  {
   "cell_type": "markdown",
   "metadata": {},
   "source": [
    "**Ответ:**\n",
    "\n",
    "1) Создаём квадратную матрицу A из рандомных чисел с помощью np.random.randint()<br>\n",
    "2) Проверяем созданную матрицу на обратимость с помощью np.linalg.inv() <br>\n",
    "3) Матрица признаков x квадратная матрица = зашифрованные данные <br>\n",
    "4) Для дешифрования используем умножение матрицы зашифрованных параметров на обратную матрицу <br>\n",
    "5) Проверяем качество расшифровки <br>\n",
    "6) При нарушениях работы алгоритма - изучаем их и исправляем <br>"
   ]
  },
  {
   "cell_type": "markdown",
   "metadata": {},
   "source": [
    "## Умножение матриц"
   ]
  },
  {
   "cell_type": "markdown",
   "metadata": {},
   "source": [
    "**Обоснование:** \n",
    "\n",
    "1) Матрица x обратимая квадратная матрица = зашифрованные данные клиента <br>\n",
    "2) Ключ шифра - обратная матрица <br>\n",
    "3) Данный подход не должен ухудшить качество модели линейной регрессии <br>"
   ]
  },
  {
   "cell_type": "markdown",
   "metadata": {},
   "source": [
    "## Проверка алгоритма"
   ]
  },
  {
   "cell_type": "code",
   "execution_count": 8,
   "metadata": {},
   "outputs": [],
   "source": [
    "features = df.drop('Страховые выплаты', axis = 1)\n",
    "target = df['Страховые выплаты']"
   ]
  },
  {
   "cell_type": "code",
   "execution_count": 9,
   "metadata": {},
   "outputs": [],
   "source": [
    "features_train, features_valid, target_train, target_valid = train_test_split(\n",
    "    features, target, test_size=0.25, random_state=12345)"
   ]
  },
  {
   "cell_type": "code",
   "execution_count": 10,
   "metadata": {},
   "outputs": [
    {
     "data": {
      "text/plain": [
       "array([[98, 29,  1, 36],\n",
       "       [41, 34, 29,  1],\n",
       "       [59, 14, 91, 80],\n",
       "       [73, 11, 77, 10]])"
      ]
     },
     "execution_count": 10,
     "metadata": {},
     "output_type": "execute_result"
    }
   ],
   "source": [
    "state = np.random.RandomState(12345)\n",
    "rand_matrix = state.randint(0, 100, size = (4, 4))\n",
    "rand_matrix"
   ]
  },
  {
   "cell_type": "code",
   "execution_count": 11,
   "metadata": {},
   "outputs": [
    {
     "data": {
      "text/html": [
       "<div>\n",
       "<style scoped>\n",
       "    .dataframe tbody tr th:only-of-type {\n",
       "        vertical-align: middle;\n",
       "    }\n",
       "\n",
       "    .dataframe tbody tr th {\n",
       "        vertical-align: top;\n",
       "    }\n",
       "\n",
       "    .dataframe thead th {\n",
       "        text-align: right;\n",
       "    }\n",
       "</style>\n",
       "<table border=\"1\" class=\"dataframe\">\n",
       "  <thead>\n",
       "    <tr style=\"text-align: right;\">\n",
       "      <th></th>\n",
       "      <th>0</th>\n",
       "      <th>1</th>\n",
       "      <th>2</th>\n",
       "      <th>3</th>\n",
       "    </tr>\n",
       "  </thead>\n",
       "  <tbody>\n",
       "    <tr>\n",
       "      <td>0</td>\n",
       "      <td>1.000000e+00</td>\n",
       "      <td>1.526557e-16</td>\n",
       "      <td>-3.469447e-17</td>\n",
       "      <td>6.938894e-17</td>\n",
       "    </tr>\n",
       "    <tr>\n",
       "      <td>1</td>\n",
       "      <td>-9.540979e-18</td>\n",
       "      <td>1.000000e+00</td>\n",
       "      <td>-2.602085e-17</td>\n",
       "      <td>5.898060e-17</td>\n",
       "    </tr>\n",
       "    <tr>\n",
       "      <td>2</td>\n",
       "      <td>-9.714451e-17</td>\n",
       "      <td>5.551115e-17</td>\n",
       "      <td>1.000000e+00</td>\n",
       "      <td>2.775558e-16</td>\n",
       "    </tr>\n",
       "    <tr>\n",
       "      <td>3</td>\n",
       "      <td>8.673617e-18</td>\n",
       "      <td>4.857226e-17</td>\n",
       "      <td>1.075529e-16</td>\n",
       "      <td>1.000000e+00</td>\n",
       "    </tr>\n",
       "  </tbody>\n",
       "</table>\n",
       "</div>"
      ],
      "text/plain": [
       "              0             1             2             3\n",
       "0  1.000000e+00  1.526557e-16 -3.469447e-17  6.938894e-17\n",
       "1 -9.540979e-18  1.000000e+00 -2.602085e-17  5.898060e-17\n",
       "2 -9.714451e-17  5.551115e-17  1.000000e+00  2.775558e-16\n",
       "3  8.673617e-18  4.857226e-17  1.075529e-16  1.000000e+00"
      ]
     },
     "execution_count": 11,
     "metadata": {},
     "output_type": "execute_result"
    }
   ],
   "source": [
    "inv_matrix = np.linalg.inv(rand_matrix)\n",
    "res_matrix = pd.DataFrame(rand_matrix @ inv_matrix, columns = [0,1,2,3])\n",
    "res_matrix"
   ]
  },
  {
   "cell_type": "code",
   "execution_count": 12,
   "metadata": {},
   "outputs": [],
   "source": [
    "mod_features_train = features_train @ rand_matrix\n",
    "mod_features_valid = features_valid @ rand_matrix"
   ]
  },
  {
   "cell_type": "code",
   "execution_count": 13,
   "metadata": {},
   "outputs": [],
   "source": [
    "model = LinearRegression()\n",
    "model.fit(features_train, target_train)\n",
    "model_predicted = model.predict(features_valid)"
   ]
  },
  {
   "cell_type": "code",
   "execution_count": 14,
   "metadata": {},
   "outputs": [],
   "source": [
    "encoded_model = LinearRegression()\n",
    "encoded_model.fit(mod_features_train, target_train)\n",
    "encoded_models_predicted = encoded_model.predict(mod_features_valid)"
   ]
  },
  {
   "cell_type": "code",
   "execution_count": 15,
   "metadata": {},
   "outputs": [
    {
     "name": "stdout",
     "output_type": "stream",
     "text": [
      "R2 нешифрованной даты: 0.42307727492147296 MSE: 0.11955009374099915\n",
      "R2 шифрованной даты: 0.42307727492236724 MSE: 0.11955009374081381\n"
     ]
    }
   ],
   "source": [
    "r2score = r2_score(target_valid, model_predicted)\n",
    "encoded_models_r2_score = r2_score(target_valid, encoded_models_predicted)\n",
    "mse_normal = mean_squared_error(target_valid, model_predicted)\n",
    "mse_encoded = mean_squared_error(target_valid, encoded_models_predicted)\n",
    "\n",
    "print('R2 нешифрованной даты:', r2score, 'MSE:', mse_normal)\n",
    "print('R2 шифрованной даты:', encoded_models_r2_score, 'MSE:', mse_encoded)"
   ]
  },
  {
   "cell_type": "markdown",
   "metadata": {},
   "source": [
    "Провела обучение модели линейной регрессии на исходном датайфрейме и закодированном <br>\n",
    "Выбрав в качестве метрик R2 и MSE, получила удовлетворяющее качество показателей <br>"
   ]
  },
  {
   "cell_type": "code",
   "execution_count": 16,
   "metadata": {},
   "outputs": [
    {
     "data": {
      "text/html": [
       "<div>\n",
       "<style scoped>\n",
       "    .dataframe tbody tr th:only-of-type {\n",
       "        vertical-align: middle;\n",
       "    }\n",
       "\n",
       "    .dataframe tbody tr th {\n",
       "        vertical-align: top;\n",
       "    }\n",
       "\n",
       "    .dataframe thead th {\n",
       "        text-align: right;\n",
       "    }\n",
       "</style>\n",
       "<table border=\"1\" class=\"dataframe\">\n",
       "  <thead>\n",
       "    <tr style=\"text-align: right;\">\n",
       "      <th></th>\n",
       "      <th>Пол</th>\n",
       "      <th>Возраст</th>\n",
       "      <th>Зарплата</th>\n",
       "      <th>Члены семьи</th>\n",
       "    </tr>\n",
       "  </thead>\n",
       "  <tbody>\n",
       "    <tr>\n",
       "      <td>4460</td>\n",
       "      <td>0</td>\n",
       "      <td>28.0</td>\n",
       "      <td>54500.0</td>\n",
       "      <td>2</td>\n",
       "    </tr>\n",
       "    <tr>\n",
       "      <td>3773</td>\n",
       "      <td>1</td>\n",
       "      <td>38.0</td>\n",
       "      <td>50700.0</td>\n",
       "      <td>1</td>\n",
       "    </tr>\n",
       "    <tr>\n",
       "      <td>4561</td>\n",
       "      <td>0</td>\n",
       "      <td>24.0</td>\n",
       "      <td>28000.0</td>\n",
       "      <td>1</td>\n",
       "    </tr>\n",
       "    <tr>\n",
       "      <td>1385</td>\n",
       "      <td>0</td>\n",
       "      <td>47.0</td>\n",
       "      <td>38800.0</td>\n",
       "      <td>0</td>\n",
       "    </tr>\n",
       "    <tr>\n",
       "      <td>724</td>\n",
       "      <td>0</td>\n",
       "      <td>40.0</td>\n",
       "      <td>32500.0</td>\n",
       "      <td>1</td>\n",
       "    </tr>\n",
       "    <tr>\n",
       "      <td>...</td>\n",
       "      <td>...</td>\n",
       "      <td>...</td>\n",
       "      <td>...</td>\n",
       "      <td>...</td>\n",
       "    </tr>\n",
       "    <tr>\n",
       "      <td>3497</td>\n",
       "      <td>1</td>\n",
       "      <td>23.0</td>\n",
       "      <td>28200.0</td>\n",
       "      <td>1</td>\n",
       "    </tr>\n",
       "    <tr>\n",
       "      <td>3492</td>\n",
       "      <td>0</td>\n",
       "      <td>30.0</td>\n",
       "      <td>33700.0</td>\n",
       "      <td>1</td>\n",
       "    </tr>\n",
       "    <tr>\n",
       "      <td>2177</td>\n",
       "      <td>1</td>\n",
       "      <td>20.0</td>\n",
       "      <td>28900.0</td>\n",
       "      <td>1</td>\n",
       "    </tr>\n",
       "    <tr>\n",
       "      <td>3557</td>\n",
       "      <td>1</td>\n",
       "      <td>33.0</td>\n",
       "      <td>38800.0</td>\n",
       "      <td>1</td>\n",
       "    </tr>\n",
       "    <tr>\n",
       "      <td>4578</td>\n",
       "      <td>0</td>\n",
       "      <td>41.0</td>\n",
       "      <td>47300.0</td>\n",
       "      <td>2</td>\n",
       "    </tr>\n",
       "  </tbody>\n",
       "</table>\n",
       "<p>3635 rows × 4 columns</p>\n",
       "</div>"
      ],
      "text/plain": [
       "      Пол  Возраст  Зарплата  Члены семьи\n",
       "4460    0     28.0   54500.0            2\n",
       "3773    1     38.0   50700.0            1\n",
       "4561    0     24.0   28000.0            1\n",
       "1385    0     47.0   38800.0            0\n",
       "724     0     40.0   32500.0            1\n",
       "...   ...      ...       ...          ...\n",
       "3497    1     23.0   28200.0            1\n",
       "3492    0     30.0   33700.0            1\n",
       "2177    1     20.0   28900.0            1\n",
       "3557    1     33.0   38800.0            1\n",
       "4578    0     41.0   47300.0            2\n",
       "\n",
       "[3635 rows x 4 columns]"
      ]
     },
     "execution_count": 16,
     "metadata": {},
     "output_type": "execute_result"
    }
   ],
   "source": [
    "features_train"
   ]
  },
  {
   "cell_type": "code",
   "execution_count": 17,
   "metadata": {},
   "outputs": [
    {
     "data": {
      "text/html": [
       "<div>\n",
       "<style scoped>\n",
       "    .dataframe tbody tr th:only-of-type {\n",
       "        vertical-align: middle;\n",
       "    }\n",
       "\n",
       "    .dataframe tbody tr th {\n",
       "        vertical-align: top;\n",
       "    }\n",
       "\n",
       "    .dataframe thead th {\n",
       "        text-align: right;\n",
       "    }\n",
       "</style>\n",
       "<table border=\"1\" class=\"dataframe\">\n",
       "  <thead>\n",
       "    <tr style=\"text-align: right;\">\n",
       "      <th></th>\n",
       "      <th>0</th>\n",
       "      <th>1</th>\n",
       "      <th>2</th>\n",
       "      <th>3</th>\n",
       "    </tr>\n",
       "  </thead>\n",
       "  <tbody>\n",
       "    <tr>\n",
       "      <td>4460</td>\n",
       "      <td>-5.691794e-12</td>\n",
       "      <td>28.0</td>\n",
       "      <td>54500.0</td>\n",
       "      <td>2.000000e+00</td>\n",
       "    </tr>\n",
       "    <tr>\n",
       "      <td>3773</td>\n",
       "      <td>1.000000e+00</td>\n",
       "      <td>38.0</td>\n",
       "      <td>50700.0</td>\n",
       "      <td>1.000000e+00</td>\n",
       "    </tr>\n",
       "    <tr>\n",
       "      <td>4561</td>\n",
       "      <td>-4.372445e-12</td>\n",
       "      <td>24.0</td>\n",
       "      <td>28000.0</td>\n",
       "      <td>1.000000e+00</td>\n",
       "    </tr>\n",
       "    <tr>\n",
       "      <td>1385</td>\n",
       "      <td>-3.713003e-12</td>\n",
       "      <td>47.0</td>\n",
       "      <td>38800.0</td>\n",
       "      <td>6.316472e-12</td>\n",
       "    </tr>\n",
       "    <tr>\n",
       "      <td>724</td>\n",
       "      <td>-2.552720e-12</td>\n",
       "      <td>40.0</td>\n",
       "      <td>32500.0</td>\n",
       "      <td>1.000000e+00</td>\n",
       "    </tr>\n",
       "    <tr>\n",
       "      <td>...</td>\n",
       "      <td>...</td>\n",
       "      <td>...</td>\n",
       "      <td>...</td>\n",
       "      <td>...</td>\n",
       "    </tr>\n",
       "    <tr>\n",
       "      <td>3497</td>\n",
       "      <td>1.000000e+00</td>\n",
       "      <td>23.0</td>\n",
       "      <td>28200.0</td>\n",
       "      <td>1.000000e+00</td>\n",
       "    </tr>\n",
       "    <tr>\n",
       "      <td>3492</td>\n",
       "      <td>-2.889709e-12</td>\n",
       "      <td>30.0</td>\n",
       "      <td>33700.0</td>\n",
       "      <td>1.000000e+00</td>\n",
       "    </tr>\n",
       "    <tr>\n",
       "      <td>2177</td>\n",
       "      <td>1.000000e+00</td>\n",
       "      <td>20.0</td>\n",
       "      <td>28900.0</td>\n",
       "      <td>1.000000e+00</td>\n",
       "    </tr>\n",
       "    <tr>\n",
       "      <td>3557</td>\n",
       "      <td>1.000000e+00</td>\n",
       "      <td>33.0</td>\n",
       "      <td>38800.0</td>\n",
       "      <td>1.000000e+00</td>\n",
       "    </tr>\n",
       "    <tr>\n",
       "      <td>4578</td>\n",
       "      <td>-3.641687e-12</td>\n",
       "      <td>41.0</td>\n",
       "      <td>47300.0</td>\n",
       "      <td>2.000000e+00</td>\n",
       "    </tr>\n",
       "  </tbody>\n",
       "</table>\n",
       "<p>3635 rows × 4 columns</p>\n",
       "</div>"
      ],
      "text/plain": [
       "                 0     1        2             3\n",
       "4460 -5.691794e-12  28.0  54500.0  2.000000e+00\n",
       "3773  1.000000e+00  38.0  50700.0  1.000000e+00\n",
       "4561 -4.372445e-12  24.0  28000.0  1.000000e+00\n",
       "1385 -3.713003e-12  47.0  38800.0  6.316472e-12\n",
       "724  -2.552720e-12  40.0  32500.0  1.000000e+00\n",
       "...            ...   ...      ...           ...\n",
       "3497  1.000000e+00  23.0  28200.0  1.000000e+00\n",
       "3492 -2.889709e-12  30.0  33700.0  1.000000e+00\n",
       "2177  1.000000e+00  20.0  28900.0  1.000000e+00\n",
       "3557  1.000000e+00  33.0  38800.0  1.000000e+00\n",
       "4578 -3.641687e-12  41.0  47300.0  2.000000e+00\n",
       "\n",
       "[3635 rows x 4 columns]"
      ]
     },
     "execution_count": 17,
     "metadata": {},
     "output_type": "execute_result"
    }
   ],
   "source": [
    "returned_features_train = mod_features_train @ inv_matrix\n",
    "returned_features_valid = mod_features_valid @ inv_matrix\n",
    "returned_features_train"
   ]
  },
  {
   "cell_type": "markdown",
   "metadata": {},
   "source": [
    "**~~Шалость~~ Шифрование удалось.** <br> Судя по всему, важно, чтобы матрица-шифровщик была квадратной и имела обратную с соответствующим количеством столбцов в исходной матрице."
   ]
  },
  {
   "cell_type": "code",
   "execution_count": 18,
   "metadata": {},
   "outputs": [
    {
     "name": "stdout",
     "output_type": "stream",
     "text": [
      "Совпдадает ли признак Пол [ True]\n",
      "Совпдадает ли признак Возраст [ True]\n",
      "Совпдадает ли признак Зарплата [ True]\n",
      "Совпдадает ли признак Члены семьи [ True]\n"
     ]
    }
   ],
   "source": [
    "returned_features_train.columns = ['Пол', 'Возраст', 'Зарплата', 'Члены семьи'] \n",
    "returned_features_train = round(returned_features_train[['Пол', 'Возраст', 'Зарплата', 'Члены семьи']], 2)\n",
    "features_train = round(features_train[['Пол', 'Возраст', 'Зарплата', 'Члены семьи']], 2)\n",
    "\n",
    "\n",
    "for i in ['Пол', 'Возраст', 'Зарплата', 'Члены семьи']:\n",
    "    print('Совпдадает ли признак', i, returned_features_train[i].isin(features_train[i]).unique())"
   ]
  },
  {
   "cell_type": "markdown",
   "metadata": {},
   "source": [
    "**Выводы:**\n",
    "\n",
    "1) Предложенный алгоритм шифра - работает <br>\n",
    "2) Данные удалось зашифровать <br>\n",
    "3) Модели с исходными и зашифрованными данные показали практические идентичные показатели взятых метрик качества - R2 и MSE <br>"
   ]
  }
 ],
 "metadata": {
  "kernelspec": {
   "display_name": "Python 3",
   "language": "python",
   "name": "python3"
  },
  "language_info": {
   "codemirror_mode": {
    "name": "ipython",
    "version": 3
   },
   "file_extension": ".py",
   "mimetype": "text/x-python",
   "name": "python",
   "nbconvert_exporter": "python",
   "pygments_lexer": "ipython3",
   "version": "3.7.8"
  },
  "toc": {
   "base_numbering": 1,
   "nav_menu": {},
   "number_sections": true,
   "sideBar": true,
   "skip_h1_title": false,
   "title_cell": "Table of Contents",
   "title_sidebar": "Contents",
   "toc_cell": false,
   "toc_position": {},
   "toc_section_display": true,
   "toc_window_display": false
  }
 },
 "nbformat": 4,
 "nbformat_minor": 2
}
